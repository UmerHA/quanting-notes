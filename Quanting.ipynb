{
 "cells": [
  {
   "cell_type": "markdown",
   "id": "3729baf4-f804-405e-8cbb-9d738464c433",
   "metadata": {},
   "source": [
    "**This is work in progress**"
   ]
  },
  {
   "cell_type": "markdown",
   "id": "8f87f26f-38e2-4f19-abe5-bfbc6dbe2419",
   "metadata": {},
   "source": [
    "ToDo:\n",
    "- how is quanting used in llm context?\n",
    "    - weight quanting\n",
    "    - activation quanting\n",
    "    - how quanted types are used (eg extra work for dequanting during fwd/bwd pass)\n",
    "    - difference between quanting for fwd and backward pass?\n",
    "- if & how quanting is used in diffusion context\n",
    "- quanting methods:\n",
    "    - hqq, hqq+\n",
    "    - awq\n",
    "    - 2bit quanting\n",
    "    - 1bit quanting\n",
    " \n",
    "\n",
    "Yes, I'm lazy and write 'quanting' instead 'quantizing'.\n",
    "\n",
    "___"
   ]
  },
  {
   "cell_type": "code",
   "execution_count": null,
   "id": "e1fc513c-b527-48fd-be0b-d59376bcdda8",
   "metadata": {},
   "outputs": [],
   "source": []
  },
  {
   "cell_type": "code",
   "execution_count": 1,
   "id": "67482501-ba54-4a47-a7a4-1da45946895d",
   "metadata": {},
   "outputs": [],
   "source": [
    "from itertools import pairwise\n",
    "\n",
    "import torch\n",
    "from torch import tensor\n",
    "import numpy as np\n",
    "\n",
    "from scipy.stats import norm\n",
    "import matplotlib.pyplot as plt\n",
    "\n",
    "torch.set_printoptions(precision=3, linewidth=200, sci_mode=False)\n",
    "np.set_printoptions(precision=3, linewidth=200)"
   ]
  },
  {
   "cell_type": "code",
   "execution_count": null,
   "id": "226b5c93-fbfb-4f1c-9c60-c76ab2a23b0f",
   "metadata": {},
   "outputs": [],
   "source": []
  },
  {
   "cell_type": "markdown",
   "id": "c9736a0b-5d4c-4a0c-a27e-9d00de9d3d91",
   "metadata": {
    "jp-MarkdownHeadingCollapsed": true
   },
   "source": [
    "## Naive Quanting"
   ]
  },
  {
   "cell_type": "markdown",
   "id": "959b2c65-bf53-4d1c-8e90-c06f15d277b7",
   "metadata": {},
   "source": [
    "Let's make up 2 data types:\n",
    "- `PreciseNum` which uses 4 bits to represent numbers from -8 to 7 (so 16=2**4 different values)\n",
    "- `RoughNum` which uses 2 bits to represent numbers from 0 to 3\n",
    "\n",
    "Our goal is to convert data which is in `PreciseNum` format into `RoughNum`s (quanting) and recovering it (de-quanting)."
   ]
  },
  {
   "cell_type": "markdown",
   "id": "dfb5f1c2-ee48-45b5-a661-088306ad5d52",
   "metadata": {},
   "source": [
    "The core idea of quanting is that we\n",
    "1. first match the ranges each types represent,\n",
    "2. then divide up the range into regions, whose number depends on how many different values the lower-bit type (for us: `RoughNum`) can represent,\n",
    "3. choose a representative point in each region,\n",
    "4. and lastly map each input value (of type `PreciseNum`) to the closest representative point.\n",
    "\n",
    "**todo umer:** and map repr to its low-bit equivalent"
   ]
  },
  {
   "cell_type": "code",
   "execution_count": 2,
   "id": "c022b15d-d2ec-4937-b268-fa8613abb237",
   "metadata": {},
   "outputs": [],
   "source": [
    "from abc import ABC, abstractmethod\n",
    "\n",
    "abstract_class_property = lambda f: classmethod(property(abstractmethod(f)))\n",
    "class_property = lambda f: classmethod(property(f))\n",
    "\n",
    "class Number(ABC):\n",
    "    @abstract_class_property\n",
    "    def n_bits(cls): pass\n",
    "    @abstract_class_property\n",
    "    def max_val(cls): pass\n",
    "    @abstract_class_property\n",
    "    def min_val(cls): pass\n",
    "    \n",
    "    def __init__(self,x):\n",
    "        if not isinstance(x,int): raise ValueError(f'{self.__class__.__name__}  can only represent ints between  {self.min_val} and {self.max_val}')\n",
    "        if not (self.min_val <= x <= self.max_val): raise ValueError(f'{self.__class__.__name__}  can only represent ints between  {self.min_val} and {self.max_val}')\n",
    "        self.val = x\n",
    "        self.bits = [0] * self.n_bits   \n",
    "\n",
    "    def __repr__(self): return str(self.val)\n",
    "\n",
    "    def show(self): return str(self.val) + ' [' + ''.join(map(str,self.bits)) + ']' # eg '5 [101]'\n",
    "\n",
    "    @class_property\n",
    "    def range(cls): return (cls.min_val, cls.max_val)\n",
    "    \n",
    "    @classmethod\n",
    "    def range_iter(cls): return range(cls.min_val, cls.max_val+1)\n",
    "\n",
    "    def __eq__(self, other):\n",
    "        assert type(self)==type(other), f'Can\\'t compare self of type {type(self)} with other of type {type(other)}'\n",
    "        return self.bits == other.bits\n",
    "        \n",
    "\n",
    "class PreciseNum(Number):\n",
    "    @class_property\n",
    "    def n_bits(cls): return 4\n",
    "    @class_property\n",
    "    def max_val(cls): return 7\n",
    "    @class_property\n",
    "    def min_val(cls): return -8\n",
    "    \n",
    "    def __init__(self,x):\n",
    "        super().__init__(x)\n",
    "        x += 8 # shift (-8,7) to (0,15) for easier processing\n",
    "        for i in range(4):\n",
    "            self.bits[3-i] = x % 2\n",
    "            x //= 2\n",
    "\n",
    "\n",
    "class RoughNum(Number):\n",
    "    @class_property\n",
    "    def n_bits(cls): return 2\n",
    "    @class_property\n",
    "    def max_val(cls): return 3\n",
    "    @class_property\n",
    "    def min_val(cls): return 0\n",
    "    \n",
    "    def __init__(self,x):\n",
    "        super().__init__(x)       \n",
    "        for i in range(2):\n",
    "            self.bits[1-i] = x % 2\n",
    "            x //= 2"
   ]
  },
  {
   "cell_type": "code",
   "execution_count": 3,
   "id": "57db18d7-2115-4872-bda2-58d51ce30878",
   "metadata": {},
   "outputs": [
    {
     "data": {
      "text/plain": [
       "(7, 5, -7, -8)"
      ]
     },
     "execution_count": 3,
     "metadata": {},
     "output_type": "execute_result"
    }
   ],
   "source": [
    "PreciseNum(7), PreciseNum(5), PreciseNum(-7), PreciseNum(-8)"
   ]
  },
  {
   "cell_type": "code",
   "execution_count": 4,
   "id": "928ceee0-24a9-4e2c-adf6-aa48a91a5a4b",
   "metadata": {},
   "outputs": [
    {
     "data": {
      "text/plain": [
       "(3, 2, 1, 0)"
      ]
     },
     "execution_count": 4,
     "metadata": {},
     "output_type": "execute_result"
    }
   ],
   "source": [
    "RoughNum(3), RoughNum(2), RoughNum(1), RoughNum(0)"
   ]
  },
  {
   "cell_type": "code",
   "execution_count": null,
   "id": "ddb29577-ca85-4ea5-ad02-34f88bac0efe",
   "metadata": {},
   "outputs": [],
   "source": []
  },
  {
   "cell_type": "markdown",
   "id": "6450f27e-e42f-4c5c-89ab-55cfbd1c0b1e",
   "metadata": {},
   "source": [
    "**Step 1:** Okay, let's match the ranges each type represent. We can choose an arbitrary target range as long as it's the same range for both data types. For the sake of illustration, let's choose a weird target range: `[-100, 200]`."
   ]
  },
  {
   "cell_type": "code",
   "execution_count": 5,
   "id": "f70c3f1c-ea4d-4ad7-a903-778787917e1f",
   "metadata": {},
   "outputs": [],
   "source": [
    "tgt_rng = [-100,200]"
   ]
  },
  {
   "cell_type": "code",
   "execution_count": 6,
   "id": "9816fb59-9c3c-443d-8295-41e2bee086d0",
   "metadata": {},
   "outputs": [],
   "source": [
    "def to_target_range(x, range_=tgt_rng):    \n",
    "    rng_min,rng_max = range_\n",
    "    normalized_x = (x.val - x.min_val) / (x.max_val - x.min_val) # scale from [x.min_val,x.max_val] to [0,1]    \n",
    "    return normalized_x * (rng_max - rng_min) + rng_min # Scale from [0,1] to [range_min, range_max]"
   ]
  },
  {
   "cell_type": "code",
   "execution_count": 7,
   "id": "87ef5054-b94c-44d3-91b3-0a1fb1f6e53a",
   "metadata": {},
   "outputs": [
    {
     "data": {
      "text/plain": [
       "160.0"
      ]
     },
     "execution_count": 7,
     "metadata": {},
     "output_type": "execute_result"
    }
   ],
   "source": [
    "to_target_range(PreciseNum(5))"
   ]
  },
  {
   "cell_type": "code",
   "execution_count": 8,
   "id": "e3410854-d341-43d0-9d58-b1f5d7e0317a",
   "metadata": {},
   "outputs": [],
   "source": [
    "for num_type in [PreciseNum, RoughNum]:\n",
    "    assert to_target_range(num_type(num_type.min_val)) == tgt_rng[0] # lowest value maps to start of range\n",
    "    assert to_target_range(num_type(num_type.max_val)) == tgt_rng[1] # lowest value maps to end of range"
   ]
  },
  {
   "cell_type": "code",
   "execution_count": 9,
   "id": "b319eca2-def7-4f2c-b5b4-60fbd1609fad",
   "metadata": {},
   "outputs": [
    {
     "name": "stdout",
     "output_type": "stream",
     "text": [
      "Mapping of range of PreciseNum to [-100, 200]\n",
      "-8 -> -100.00\n",
      "-7 ->  -80.00\n",
      "-6 ->  -60.00\n",
      "-5 ->  -40.00\n",
      "-4 ->  -20.00\n",
      "-3 ->    0.00\n",
      "-2 ->   20.00\n",
      "-1 ->   40.00\n",
      " 0 ->   60.00\n",
      " 1 ->   80.00\n",
      " 2 ->  100.00\n",
      " 3 ->  120.00\n",
      " 4 ->  140.00\n",
      " 5 ->  160.00\n",
      " 6 ->  180.00\n",
      " 7 ->  200.00\n",
      "--\n",
      "Mapping of range of RoughNum to [-100, 200]\n",
      " 0 -> -100.00\n",
      " 1 ->    0.00\n",
      " 2 ->  100.00\n",
      " 3 ->  200.00\n",
      "--\n"
     ]
    }
   ],
   "source": [
    "for num_type in [PreciseNum, RoughNum]:\n",
    "    print(f'Mapping of range of {num_type.__name__} to {tgt_rng}')\n",
    "    for x in num_type.range_iter():\n",
    "        in_target_rng = to_target_range(num_type(x))\n",
    "        print(f'{x:2} -> {in_target_rng:>7.2f}')\n",
    "    print('--')"
   ]
  },
  {
   "cell_type": "markdown",
   "id": "36f1a834-ad56-4ee8-b515-1dd8b7c91c78",
   "metadata": {},
   "source": [
    "**Step 2:** Now we split the target range `[-100, 200]` into 4 regions, as `RoughNum` can handle `2**2` unique values.\n",
    "\n"
   ]
  },
  {
   "cell_type": "code",
   "execution_count": 10,
   "id": "d478f29f-508e-42d7-9cc6-b05b1fd7a8c2",
   "metadata": {},
   "outputs": [],
   "source": [
    "# The 4 regions are defined by 5 boundaries\n",
    "reg_boundaries = [-100, -25, 50, 125, 200]"
   ]
  },
  {
   "cell_type": "code",
   "execution_count": null,
   "id": "af07bfa9-202a-49c1-9177-24d8275d4d5d",
   "metadata": {},
   "outputs": [],
   "source": []
  },
  {
   "cell_type": "markdown",
   "id": "27585d3a-ccff-4153-ac6d-e2feb97c43e1",
   "metadata": {},
   "source": [
    "**Step 3:** `RoughNum` can only hold 4 unique values. So we need to pick a representative from each of the 4 regions. Every number in a region will be mapped onto the representative. Eg, in our example, `PreciseNum(-8)` and `PreciseNum(-7)` map to `-100` and `-80` in our target range, which are both in the region `(-100,-25)`; so both will be mapped to the same representative."
   ]
  },
  {
   "cell_type": "code",
   "execution_count": null,
   "id": "421b8500-d756-4b00-a086-374cf7fba297",
   "metadata": {},
   "outputs": [],
   "source": []
  },
  {
   "cell_type": "markdown",
   "id": "8bcfea4f-5560-4332-82f2-741e81f982ba",
   "metadata": {},
   "source": [
    "In principle, you can pick an abritrary representative for each region. But choosing the midpoint `(a+b)/2` give the smallest reconstruction error (ie mapping a `PreciseNum` and `RoughNum` and back, averaged over all possible `PreciseNum` values)."
   ]
  },
  {
   "cell_type": "code",
   "execution_count": 11,
   "id": "033db73f-74af-4ef6-9779-9ee86f337a43",
   "metadata": {},
   "outputs": [],
   "source": [
    "def pick_repr(region):\n",
    "    a,b=region\n",
    "    return (a+b)/2"
   ]
  },
  {
   "cell_type": "code",
   "execution_count": 12,
   "id": "e1d3cb74-753e-4cc4-bead-c683ddc7dff8",
   "metadata": {},
   "outputs": [
    {
     "data": {
      "text/plain": [
       "[-62.5, 12.5, 87.5, 162.5]"
      ]
     },
     "execution_count": 12,
     "metadata": {},
     "output_type": "execute_result"
    }
   ],
   "source": [
    "reprs = [pick_repr(r) for r in pairwise(reg_boundaries)]\n",
    "reprs"
   ]
  },
  {
   "cell_type": "code",
   "execution_count": 13,
   "id": "51d89938-d891-48ee-9391-77818e9d6a8f",
   "metadata": {},
   "outputs": [],
   "source": [
    "for x1,x2 in pairwise(reprs): assert x1 <= x2 # representatives need to be in increasing order"
   ]
  },
  {
   "cell_type": "code",
   "execution_count": 14,
   "id": "60713113-61bb-43e3-81ef-b2192d0c5a81",
   "metadata": {},
   "outputs": [],
   "source": [
    "def to_repr(x):\n",
    "    # map a value in target range to its representative \n",
    "    for b,r in zip(reg_boundaries[1:], reprs):\n",
    "        if x <= b: return r\n",
    "    raise RuntimeError(f'Can\\'t map {x} to a representative')"
   ]
  },
  {
   "cell_type": "code",
   "execution_count": 15,
   "id": "c94ac000-88e4-4a8f-a2aa-dc0245df6ff2",
   "metadata": {},
   "outputs": [],
   "source": [
    "for r in reprs: assert to_repr(r)==r # each representative should map onto itself"
   ]
  },
  {
   "cell_type": "code",
   "execution_count": null,
   "id": "c8c377bb-c0fd-472c-9543-b4dc6c22e7b8",
   "metadata": {},
   "outputs": [],
   "source": []
  },
  {
   "cell_type": "code",
   "execution_count": 16,
   "id": "818127cc-67ca-4409-b2e3-7ef2b0970106",
   "metadata": {},
   "outputs": [],
   "source": [
    "repr2rough = {repr: rough for repr, rough in zip(reprs, RoughNum.range_iter())}\n",
    "rough2repr = {rough: repr for repr, rough in repr2rough.items()}"
   ]
  },
  {
   "cell_type": "code",
   "execution_count": 17,
   "id": "51f0e035-cebf-44fa-8e34-aa7f9f0f317f",
   "metadata": {},
   "outputs": [
    {
     "name": "stdout",
     "output_type": "stream",
     "text": [
      "RoughNum 0 encodes values -62.50 in target range\n",
      "RoughNum 1 encodes values  12.50 in target range\n",
      "RoughNum 2 encodes values  87.50 in target range\n",
      "RoughNum 3 encodes values 162.50 in target range\n"
     ]
    }
   ],
   "source": [
    "for k,v in rough2repr.items(): print(f'RoughNum {k} encodes values {v:>6.2f} in target range')"
   ]
  },
  {
   "cell_type": "code",
   "execution_count": null,
   "id": "b00d4669-bdb9-4fc9-92e4-1dc80c34273b",
   "metadata": {},
   "outputs": [],
   "source": []
  },
  {
   "cell_type": "markdown",
   "id": "02e22bbb-2854-4075-8c16-49ab26df0c78",
   "metadata": {},
   "source": [
    "**Step 4:** Map input value (of type PreciseNum) to the closest representative point."
   ]
  },
  {
   "cell_type": "code",
   "execution_count": 18,
   "id": "fcebc4d7-835d-404d-9b6c-e7261332d756",
   "metadata": {},
   "outputs": [],
   "source": [
    "# todo umer: update comment\n",
    "def precise2rough(x):\n",
    "    assert isinstance(x, PreciseNum)\n",
    "    x = to_target_range(x) # eg PreciseNum(-7) -> (-100,-25)\n",
    "    x = to_repr(x)         # eg (-100,-25)      -> -62.5\n",
    "    x = repr2rough[x]      # eg -62.5           -> RoughNum(0)\n",
    "    return RoughNum(x)\n",
    "\n",
    "assert precise2rough(PreciseNum(-7)) == RoughNum(0)"
   ]
  },
  {
   "cell_type": "code",
   "execution_count": 19,
   "id": "a8bb6126-6b3f-493f-83da-6e8874e1469f",
   "metadata": {},
   "outputs": [
    {
     "name": "stdout",
     "output_type": "stream",
     "text": [
      "Mapping of PreciseNum -> RoughNum \n",
      "-8 -> 0\n",
      "-7 -> 0\n",
      "-6 -> 0\n",
      "-5 -> 0\n",
      "-4 -> 1\n",
      "-3 -> 1\n",
      "-2 -> 1\n",
      "-1 -> 1\n",
      " 0 -> 2\n",
      " 1 -> 2\n",
      " 2 -> 2\n",
      " 3 -> 2\n",
      " 4 -> 3\n",
      " 5 -> 3\n",
      " 6 -> 3\n",
      " 7 -> 3\n"
     ]
    }
   ],
   "source": [
    "print('Mapping of PreciseNum -> RoughNum ')\n",
    "for x in PreciseNum.range_iter(): print(f'{x:>2} -> {precise2rough(PreciseNum(x)).val}')"
   ]
  },
  {
   "cell_type": "markdown",
   "id": "3423e369-f672-4663-a98b-8a0d8e08355a",
   "metadata": {},
   "source": [
    "We've implemented naive quantization!"
   ]
  },
  {
   "cell_type": "code",
   "execution_count": null,
   "id": "13979a6b-d410-4be8-b341-aae49f49a556",
   "metadata": {},
   "outputs": [],
   "source": []
  },
  {
   "cell_type": "markdown",
   "id": "03435743-b6e3-4575-80f9-484037808cee",
   "metadata": {},
   "source": [
    "**De-Quanting:**"
   ]
  },
  {
   "cell_type": "markdown",
   "id": "68fc7fe8-3489-4258-8dc1-01c6a30d4856",
   "metadata": {},
   "source": [
    "For de-quanting, we (i) map a rough num into the target range, and then (ii) divide the target range into `2**4 = 16` regions, choose a representative (the mid point), and map the input to the closest representative."
   ]
  },
  {
   "cell_type": "code",
   "execution_count": 20,
   "id": "da981c59-473d-42b1-a93a-6ac3e496ef5e",
   "metadata": {},
   "outputs": [
    {
     "name": "stdout",
     "output_type": "stream",
     "text": [
      "For 4 bits / 16 values, the target range is divided into 16 regions of size 18.75\n",
      "The 17 boundaries are: [-100.0, -81.25, -62.5, -43.75, -25.0, -6.25, 12.5, 31.25, 50.0, 68.75, 87.5, 106.25, 125.0, 143.75, 162.5, 181.25, 200.0]\n"
     ]
    }
   ],
   "source": [
    "reg_size = (tgt_rng[1]-tgt_rng[0]) / 2**4\n",
    "print(f'For 4 bits / {2**4} values, the target range is divided into {2**4} regions of size {reg_size}')\n",
    "\n",
    "reg_boundaries_4bit = [-100 + i*18.75 for i in range(16+1)]\n",
    "print('The 17 boundaries are:',reg_boundaries_4bit)"
   ]
  },
  {
   "cell_type": "code",
   "execution_count": 21,
   "id": "2440926e-404a-44e0-b400-66c65cf904a9",
   "metadata": {},
   "outputs": [
    {
     "name": "stdout",
     "output_type": "stream",
     "text": [
      "The 16 representatives are: [-90.625, -71.875, -53.125, -34.375, -15.625, 3.125, 21.875, 40.625, 59.375, 78.125, 96.875, 115.625, 134.375, 153.125, 171.875, 190.625]\n"
     ]
    }
   ],
   "source": [
    "reprs_4bit = [pick_repr(r) for r in pairwise(reg_boundaries_4bit)]\n",
    "print('The 16 representatives are:',reprs_4bit)"
   ]
  },
  {
   "cell_type": "code",
   "execution_count": 22,
   "id": "4527fa45-355f-4504-87ba-d2b540b97ca2",
   "metadata": {},
   "outputs": [],
   "source": [
    "def to_repr_4bit(x):\n",
    "    # map a value in target range to its representative \n",
    "    for b,r in zip(reg_boundaries_4bit[1:], reprs_4bit):\n",
    "        if x <= b: return r\n",
    "    raise RuntimeError(f'Can\\'t map {x} to a representative')"
   ]
  },
  {
   "cell_type": "code",
   "execution_count": 23,
   "id": "37592aa8-c2bc-4fcd-9556-eb61d6c7e8a5",
   "metadata": {},
   "outputs": [],
   "source": [
    "repr4bit2precise = {repr: precise for repr, precise in zip(reprs_4bit, PreciseNum.range_iter())}\n",
    "precise2repr4bit = {precise: repr for repr, precise in repr4bit2precise.items()}"
   ]
  },
  {
   "cell_type": "code",
   "execution_count": 24,
   "id": "df3a24ee-e88e-4274-a764-8b1299d78cd3",
   "metadata": {},
   "outputs": [
    {
     "name": "stdout",
     "output_type": "stream",
     "text": [
      "PreciseNum -8 encodes value -90.62 in target range\n",
      "PreciseNum -7 encodes value -71.88 in target range\n",
      "PreciseNum -6 encodes value -53.12 in target range\n",
      "PreciseNum -5 encodes value -34.38 in target range\n",
      "PreciseNum -4 encodes value -15.62 in target range\n",
      "PreciseNum -3 encodes value   3.12 in target range\n",
      "PreciseNum -2 encodes value  21.88 in target range\n",
      "PreciseNum -1 encodes value  40.62 in target range\n",
      "PreciseNum  0 encodes value  59.38 in target range\n",
      "PreciseNum  1 encodes value  78.12 in target range\n",
      "PreciseNum  2 encodes value  96.88 in target range\n",
      "PreciseNum  3 encodes value 115.62 in target range\n",
      "PreciseNum  4 encodes value 134.38 in target range\n",
      "PreciseNum  5 encodes value 153.12 in target range\n",
      "PreciseNum  6 encodes value 171.88 in target range\n",
      "PreciseNum  7 encodes value 190.62 in target range\n"
     ]
    }
   ],
   "source": [
    "for k,v in precise2repr4bit.items(): print(f'PreciseNum {k:>2} encodes value {v:>6.2f} in target range')"
   ]
  },
  {
   "cell_type": "code",
   "execution_count": 25,
   "id": "e94dee9a-62a1-4437-bc08-1e12a61c487a",
   "metadata": {},
   "outputs": [],
   "source": [
    "def rough2precise(x):\n",
    "    assert isinstance(x, RoughNum)\n",
    "    x = to_target_range(x)  # eg RoughNum(0)   -> (-100.0, -81.25)\n",
    "    x = to_repr_4bit(x)     # eg (-100.0, -81.25) -> -90.625\n",
    "    x = repr4bit2precise[x] # eg -90.625          -> PreciseNum(-8)\n",
    "    return PreciseNum(x)\n",
    "\n",
    "assert rough2precise(RoughNum(0)) == PreciseNum(-8)"
   ]
  },
  {
   "cell_type": "code",
   "execution_count": 26,
   "id": "39f45eb5-4428-4c25-ba41-ae2bc0d35fda",
   "metadata": {},
   "outputs": [
    {
     "name": "stdout",
     "output_type": "stream",
     "text": [
      "PreciseNum --quanting--> RoughNum --dequanting--> PreciseNum\n",
      "-8 -> 0 -> -8\n",
      "-7 -> 0 -> -8\n",
      "-6 -> 0 -> -8\n",
      "-5 -> 0 -> -8\n",
      "-4 -> 1 -> -3\n",
      "-3 -> 1 -> -3\n",
      "-2 -> 1 -> -3\n",
      "-1 -> 1 -> -3\n",
      " 0 -> 2 ->  2\n",
      " 1 -> 2 ->  2\n",
      " 2 -> 2 ->  2\n",
      " 3 -> 2 ->  2\n",
      " 4 -> 3 ->  7\n",
      " 5 -> 3 ->  7\n",
      " 6 -> 3 ->  7\n",
      " 7 -> 3 ->  7\n"
     ]
    }
   ],
   "source": [
    "print('PreciseNum --quanting--> RoughNum --dequanting--> PreciseNum')\n",
    "for x in PreciseNum.range_iter():\n",
    "    x = PreciseNum(x)\n",
    "    x_rough = precise2rough(x)\n",
    "    x_reconstructed = rough2precise(x_rough)\n",
    "    print(f'{x.val:>2} -> {x_rough.val} -> {x_reconstructed.val:>2}')"
   ]
  },
  {
   "cell_type": "code",
   "execution_count": null,
   "id": "e31d71b2-434b-49d8-a5d7-8c7607137656",
   "metadata": {},
   "outputs": [],
   "source": []
  },
  {
   "cell_type": "markdown",
   "id": "68aa297a-7ad3-4e04-a845-c92b0e3190d3",
   "metadata": {
    "jp-MarkdownHeadingCollapsed": true
   },
   "source": [
    "## Quantile Quanting"
   ]
  },
  {
   "cell_type": "markdown",
   "id": "31e6642f-f85d-4332-94a2-3ce69259f194",
   "metadata": {},
   "source": [
    "Currently, our quanting method doesn't consider how our input is distributed. If you know (or can estimate) the distribution of your input data, you can adapt your quanting method to it, making it less wasteful (ie average reconstruction error will be lower)."
   ]
  },
  {
   "cell_type": "markdown",
   "id": "4245b665-d234-4a3d-ab7e-c2e442c50ef0",
   "metadata": {},
   "source": [
    "The input distribution matters in step 2 of quanting: Dividing the target range into regions. After converting our input data into the target region, we want each region to contain about the same number of elements.\n",
    "\n",
    "Let's take a normal distribution as an example. (This is interesting because the activations of a neural network for a given unit are normally distribution.) We'll see that the naive division into equally sized regions we used so far isn't well suited to normally distributed input."
   ]
  },
  {
   "cell_type": "code",
   "execution_count": 27,
   "id": "62e4dc10-761f-4620-84af-762668fa474e",
   "metadata": {},
   "outputs": [],
   "source": [
    "def normal_precise_nums(mean=None, std=1, n_samples=1000):\n",
    "    if mean is None: mean = (PreciseNum.max_val+PreciseNum.min_val)/2 # the range of PreciseNum is centered around (8+(-7))/2 = -0.5\n",
    "    \n",
    "    x = torch.normal(mean=mean, std=std, size=(n_samples,))\n",
    "    x = x.clamp(*PreciseNum.range).round().int().tolist()\n",
    "    x = [PreciseNum(x_) for x_ in x]\n",
    "    assert isinstance(x[0], PreciseNum)\n",
    "    return x\n",
    "\n",
    "n_samples = 1000\n",
    "\n",
    "x = normal_precise_nums(std=3, n_samples=n_samples) # for illustration: normal distribution with mean 0 and std dev 3"
   ]
  },
  {
   "cell_type": "code",
   "execution_count": null,
   "id": "802d9ce9-1c18-4d15-95e8-ea994cc6e45a",
   "metadata": {},
   "outputs": [],
   "source": []
  },
  {
   "cell_type": "code",
   "execution_count": 28,
   "id": "fcbea264-af49-4339-aabb-02afa04101a4",
   "metadata": {},
   "outputs": [
    {
     "name": "stdout",
     "output_type": "stream",
     "text": [
      "Out of 1000 input data points...\n",
      "\t 96 are mapped into region (-100,  -25) (represented by -62.5)\n",
      "\t398 are mapped into region ( -25,   50) (represented by  12.5)\n",
      "\t402 are mapped into region (  50,  125) (represented by  87.5)\n",
      "\t104 are mapped into region ( 125,  200) (represented by 162.5)\n"
     ]
    }
   ],
   "source": [
    "from collections import Counter\n",
    "\n",
    "repr2freq = Counter([to_repr(to_target_range(x_)) for x_ in x]) # how often does an input end up in a region (defined by its representative)?\n",
    "repr2freq = {r:f for r,f in repr2freq.items() }\n",
    "assert sum(repr2freq.values()) == n_samples\n",
    "\n",
    "print(f'Out of {n_samples} input data points...')\n",
    "for i,r in enumerate(sorted(repr2freq.keys())): print(f'\\t{repr2freq [r]:>3} are mapped into region ({reg_boundaries[i]:>4}, {reg_boundaries[i+1]:>4}) (represented by {r:>5.1f})')"
   ]
  },
  {
   "cell_type": "code",
   "execution_count": null,
   "id": "f6ee030e-aae9-4ad6-a05e-a921fe010d42",
   "metadata": {},
   "outputs": [],
   "source": []
  },
  {
   "cell_type": "markdown",
   "id": "0ae099e0-123f-4981-811f-b87f5c528e7f",
   "metadata": {},
   "source": [
    "The number of data points mapped by each region are not equal at all. So our choice of how to divide the regions is wasteful. We can do better by explicitely dividing such that the expected number of points in each region is about the same.\n",
    "\n",
    "_Note_: The expected number of points in a region, as a percentage of total points, is called `probability mass`. Let's abbreviate it with `p'mass`. The total p'mass is always 1.\n",
    "\n",
    "If we wanted to compute the p'mass of region `(a_tgt,b_tgt)`, we can use the 'cumulative distribution function' (cdf) of the input distribution. In our case that's `scipy.stats.norm.cdf`. `cdf(b_prec)-cdf(a_prec)` is the p'mass of `(a_tgt,b_tgt)` where `a_prec` and `b_prec` are the values in `PreciceNum`'s range that map to `a_tgt` and `b_tgt` in the target range.\n",
    "\n",
    "What we want is to have regions of equal p'masses. For `2**2 = 4` regions, each region should have p'mass `1/4 = 0.25`. Therefore, we want numbers `a_i`such that `[cdf(a_i) for i in range(0,2**2+1) == [0.00, 0.25, 0.50, 0.75, 1.00]`.\n",
    "\n",
    "To get those numbers, we'll use the inverse of the cdf, which is the ppf ('probabilty percentile function')."
   ]
  },
  {
   "cell_type": "code",
   "execution_count": 29,
   "id": "e2981bee-4730-4bd1-870a-ed64bb77d7e3",
   "metadata": {},
   "outputs": [],
   "source": [
    "from scipy.stats import norm\n",
    "\n",
    "precise_mean = (PreciseNum.max_val+PreciseNum.min_val)/2\n",
    "precise_distribution = norm(precise_mean,3)\n",
    "\n",
    "cdf = precise_distribution.cdf\n",
    "ppf = precise_distribution.ppf"
   ]
  },
  {
   "cell_type": "code",
   "execution_count": 30,
   "id": "63accc7e-4766-4b63-85c2-58cdb84fd172",
   "metadata": {},
   "outputs": [
    {
     "name": "stdout",
     "output_type": "stream",
     "text": [
      "For 4 regions, each region should have p'mass 0.25.\n",
      "\tIn the precise range, region (-8.00, -2.52) has pmass 0.2438.\n",
      "\tIn the precise range, region (-2.52, -0.50) has pmass 0.2500.\n",
      "\tIn the precise range, region (-0.50,  1.52) has pmass 0.2500.\n",
      "\tIn the precise range, region ( 1.52,  7.00) has pmass 0.2438.\n"
     ]
    }
   ],
   "source": [
    "pmass_per_region = 1 / RoughNum.n_bits**2\n",
    "print(f'For {RoughNum.n_bits**2} regions, each region should have p\\'mass {pmass_per_region}.')\n",
    "\n",
    "def clamp_prec(x,a=PreciseNum.min_val,b=PreciseNum.max_val):\n",
    "    if x < a: return a\n",
    "    if x > b: return b\n",
    "    return x\n",
    "        \n",
    "reg_boundaries_precise = [clamp_prec(ppf(i*pmass_per_region)) for i in range(RoughNum.n_bits**2 + 1)]\n",
    "\n",
    "for a_prec,b_prec in pairwise(reg_boundaries_precise):\n",
    "    pmass = cdf(b_prec)-cdf(a_prec)\n",
    "    print(f'\\tIn the precise range, region ({a_prec:>5.2f}, {b_prec:>5.2f}) has pmass {pmass:.4f}.')"
   ]
  },
  {
   "cell_type": "markdown",
   "id": "f12dc89f-7a30-4420-9231-f4afcf38defc",
   "metadata": {},
   "source": [
    "Note that the edge regions appear to have a bit lower pmass due, which is due to clamping. But clamping maps the values outside of range onto the edges, so the pmass is recovered. So all regions have exactly the same pmass."
   ]
  },
  {
   "cell_type": "code",
   "execution_count": null,
   "id": "943bfa3b-66e5-473b-abaa-7cb47e52f83b",
   "metadata": {},
   "outputs": [],
   "source": []
  },
  {
   "cell_type": "code",
   "execution_count": 31,
   "id": "246cd6cd-3982-4049-807b-741628241560",
   "metadata": {},
   "outputs": [
    {
     "data": {
      "image/png": "[encoded data removed]",
      "text/plain": [
       "<Figure size 1000x500 with 1 Axes>"
      ]
     },
     "metadata": {},
     "output_type": "display_data"
    }
   ],
   "source": [
    "domain = np.linspace(*PreciseNum.range, 100)\n",
    "plt.figure(figsize=(10, 5))\n",
    "plt.plot(domain, precise_distribution.pdf(domain))\n",
    "for boundary in reg_boundaries_precise: plt.axvline(x=boundary, color='gray', linestyle='--')\n",
    "plt.show()"
   ]
  },
  {
   "cell_type": "markdown",
   "id": "d84e1544-f04b-4f62-b230-4bccc282c501",
   "metadata": {},
   "source": [
    "**Important:** These are values in the precise range. But we want to divide up the target range."
   ]
  },
  {
   "cell_type": "markdown",
   "id": "896e9e96-9668-4fc9-bdba-12ba8e1fa4cc",
   "metadata": {},
   "source": [
    "Let's write functions to map ranges into each other."
   ]
  },
  {
   "cell_type": "code",
   "execution_count": 32,
   "id": "eb22e663-5956-4203-8b07-14fc56290464",
   "metadata": {},
   "outputs": [],
   "source": [
    "def map_range(x, orig_range, dest_range): # maps x from orig_range into dest_range\n",
    "    min_orig,max_orig = orig_range\n",
    "    min_dest,max_dest = dest_range\n",
    "    normalized_x = (x - min_orig) / (max_orig - min_orig)  # scale from [min_orig, max_orig] to [0,1]    \n",
    "    return normalized_x * (max_dest - min_dest) + min_dest # Scale from [0,1] to [min_dest, max_dest]    \n",
    "\n",
    "precise_range = (PreciseNum.min_val, PreciseNum.max_val)\n",
    "rough_range   = (RoughNum.min_val,   RoughNum.max_val)\n",
    "\n",
    "def precise2tgt_range(x): return map_range(x, orig_range=precise_range, dest_range=tgt_rng)\n",
    "def rough2tgt_range(x):   return map_range(x, orig_range=rough_range,   dest_range=tgt_rng)\n",
    "\n",
    "def tgt2precice_range(x): return map_range(x, orig_range=tgt_rng, dest_range=precise_range)\n",
    "def tgt2rough_range(x):   return map_range(x, orig_range=tgt_rng, dest_range=rough_range)\n",
    "\n",
    "# assertions\n",
    "for t,p in zip(tgt_rng, precise_range): assert tgt2precice_range(t)==p # end points of ranges should map to each other\n",
    "for t,r in zip(tgt_rng, rough_range)  : assert tgt2rough_range(t)  ==r # end points of ranges should map to each other\n",
    "\n",
    "assert precise2tgt_range(tgt2precice_range(-100)) == -100 # mapping from precise -> target -> precise should not change anything\n",
    "assert rough2tgt_range(  tgt2rough_range(  -100)) == -100 # mapping from rough   -> target -> rough   should not change anything"
   ]
  },
  {
   "cell_type": "markdown",
   "id": "f252e92a-12d9-4756-88db-a8bccd819144",
   "metadata": {},
   "source": [
    "Cool, now we can use `precise2tgt_range` to map our regions in the precise range to regions in the target range."
   ]
  },
  {
   "cell_type": "code",
   "execution_count": 33,
   "id": "ec7bed67-fc6a-4fae-ae4b-c0c45bdcfc42",
   "metadata": {},
   "outputs": [
    {
     "name": "stdout",
     "output_type": "stream",
     "text": [
      "In the target range, region 0 is (-100.00,    9.53) (represented by -45.2).\n",
      "In the target range, region 1 is (   9.53,   50.00) (represented by  29.8).\n",
      "In the target range, region 2 is (  50.00,   90.47) (represented by  70.2).\n",
      "In the target range, region 3 is (  90.47,  200.00) (represented by 145.2).\n"
     ]
    }
   ],
   "source": [
    "reg_boundaries = [precise2tgt_range(b) for b in reg_boundaries_precise]\n",
    "reprs = [pick_repr(r) for r in pairwise(reg_boundaries)]\n",
    "\n",
    "for i, ((a_tgt,b_tgt), r) in enumerate(zip(pairwise(reg_boundaries), reprs)):\n",
    "    print(f'In the target range, region {i} is ({a_tgt:>7.2f}, {b_tgt:>7.2f}) (represented by {r:>5.1f}).')"
   ]
  },
  {
   "cell_type": "code",
   "execution_count": 34,
   "id": "a8fa42ec-1787-44fd-b8d6-7af39d926396",
   "metadata": {},
   "outputs": [
    {
     "data": {
      "image/png": "[encoded data removed]",
      "text/plain": [
       "<Figure size 1000x500 with 1 Axes>"
      ]
     },
     "metadata": {},
     "output_type": "display_data"
    }
   ],
   "source": [
    "target_pdf = lambda x: precise_distribution.pdf(tgt2precice_range(x))\n",
    "\n",
    "domain = np.linspace(*tgt_rng, 100)\n",
    "plt.figure(figsize=(10, 5))\n",
    "plt.plot(domain, target_pdf(domain))\n",
    "for boundary in reg_boundaries: plt.axvline(x=boundary, color='gray', linestyle='--')\n",
    "plt.show()"
   ]
  },
  {
   "cell_type": "code",
   "execution_count": null,
   "id": "593c8d67-2c2e-405d-8ab0-994ab48123f3",
   "metadata": {},
   "outputs": [],
   "source": []
  },
  {
   "cell_type": "markdown",
   "id": "d0c4331c-95d5-4d4f-b972-4b03b5e0be12",
   "metadata": {},
   "source": [
    "Let's define `to_repr` again, so it used the updated `reg_boundaries`."
   ]
  },
  {
   "cell_type": "code",
   "execution_count": 35,
   "id": "371a57fb-927b-4725-bce2-60dd0ce81e7e",
   "metadata": {},
   "outputs": [],
   "source": [
    "# same code as above\n",
    "def to_repr(x):\n",
    "    # map a value in target range to its representative \n",
    "    for b,r in zip(reg_boundaries[1:], reprs):\n",
    "        if x <= b: return r\n",
    "    raise RuntimeError(f'Can\\'t map {x} to a representative')"
   ]
  },
  {
   "cell_type": "markdown",
   "id": "4a6a6ee0-a5e2-452a-ba8b-31462d100b40",
   "metadata": {},
   "source": [
    "Let's experimentally check that about the same number of input elements end up in each region."
   ]
  },
  {
   "cell_type": "code",
   "execution_count": 36,
   "id": "5ebb9f0d-257c-4fe7-9144-9063e1310789",
   "metadata": {},
   "outputs": [
    {
     "name": "stdout",
     "output_type": "stream",
     "text": [
      "Out of 1000 input data points...\n",
      "\t288 are mapped into region (-100.00,    9.53) (represented by -45.2)\n",
      "\t243 are mapped into region (   9.53,   50.00) (represented by  29.8)\n",
      "\t236 are mapped into region (  50.00,   90.47) (represented by  70.2)\n",
      "\t233 are mapped into region (  90.47,  200.00) (represented by 145.2)\n"
     ]
    }
   ],
   "source": [
    "n_samples = 1000\n",
    "x = normal_precise_nums(std=3, n_samples=n_samples)\n",
    "\n",
    "repr2freq = Counter([to_repr(precise2tgt_range(x_.val)) for x_ in x]) # how often does an input end up in a region (defined by its representative)?\n",
    "repr2freq = {r:f for r,f in repr2freq.items() }\n",
    "assert sum(repr2freq.values()) == n_samples\n",
    "\n",
    "print(f'Out of {n_samples} input data points...')\n",
    "for i,r in enumerate(sorted(repr2freq.keys())): print(f'\\t{repr2freq [r]:>3} are mapped into region ({reg_boundaries[i]:>7.2f}, {reg_boundaries[i+1]:>7.2f}) (represented by {r:>5.1f})')"
   ]
  },
  {
   "cell_type": "markdown",
   "id": "61ce260a-e9ae-451e-8f4f-1950ecb0f822",
   "metadata": {},
   "source": [
    "These points are now way more evenly distributed!"
   ]
  },
  {
   "cell_type": "code",
   "execution_count": null,
   "id": "a917b1a8-0d3d-4ea9-bd05-73c81833d3c2",
   "metadata": {},
   "outputs": [],
   "source": []
  },
  {
   "cell_type": "code",
   "execution_count": 37,
   "id": "695e400f-e40e-4dd7-86b6-3d2f7300e2e2",
   "metadata": {},
   "outputs": [],
   "source": [
    "repr2rough = {repr: rough for repr, rough in zip(reprs, RoughNum.range_iter())}\n",
    "rough2repr = {rough: repr for repr, rough in repr2rough.items()}\n",
    "\n",
    "# todo umer: update comment\n",
    "def precise2rough(x):\n",
    "    assert isinstance(x, PreciseNum)\n",
    "    x = x.val\n",
    "    x = precise2tgt_range(x) # eg PreciseNum(-7) -> (-100,-25)\n",
    "    x = to_repr(x)           # eg (-100,-25)      -> -62.5\n",
    "    x = repr2rough[x]        # eg -62.5           -> RoughNum(0)\n",
    "    return RoughNum(x)\n",
    "\n",
    "assert precise2rough(PreciseNum(-7)) == RoughNum(0)"
   ]
  },
  {
   "cell_type": "code",
   "execution_count": 38,
   "id": "79a716b4-f89f-4ae5-96fc-e3135a3ae06c",
   "metadata": {},
   "outputs": [
    {
     "name": "stdout",
     "output_type": "stream",
     "text": [
      "Mapping of PreciseNum -> RoughNum \n",
      "-8 -> 0\n",
      "-7 -> 0\n",
      "-6 -> 0\n",
      "-5 -> 0\n",
      "-4 -> 0\n",
      "-3 -> 0\n",
      "-2 -> 1\n",
      "-1 -> 1\n",
      " 0 -> 2\n",
      " 1 -> 2\n",
      " 2 -> 3\n",
      " 3 -> 3\n",
      " 4 -> 3\n",
      " 5 -> 3\n",
      " 6 -> 3\n",
      " 7 -> 3\n"
     ]
    }
   ],
   "source": [
    "print('Mapping of PreciseNum -> RoughNum ')\n",
    "for x in PreciseNum.range_iter(): print(f'{x:>2} -> {precise2rough(PreciseNum(x)).val}')"
   ]
  },
  {
   "cell_type": "markdown",
   "id": "3aa12dcc-7def-4309-878e-f3fa289d30a3",
   "metadata": {},
   "source": [
    "Note how the rough values 1 and 2 each now encode only 2 precise values, but the rough values 0 and 3 each now encode 6 precise values."
   ]
  },
  {
   "cell_type": "code",
   "execution_count": null,
   "id": "ea537a28-3377-44b7-9de6-206fa13cf3a8",
   "metadata": {},
   "outputs": [],
   "source": []
  },
  {
   "cell_type": "code",
   "execution_count": 39,
   "id": "d97d8bbf-8998-4854-b119-ff0ea34604ca",
   "metadata": {},
   "outputs": [
    {
     "name": "stdout",
     "output_type": "stream",
     "text": [
      "PreciseNum --quanting--> RoughNum --dequanting--> PreciseNum\n",
      "-8 -> 0 -> -8\n",
      "-7 -> 0 -> -8\n",
      "-6 -> 0 -> -8\n",
      "-5 -> 0 -> -8\n",
      "-4 -> 0 -> -8\n",
      "-3 -> 0 -> -8\n",
      "-2 -> 1 -> -3\n",
      "-1 -> 1 -> -3\n",
      " 0 -> 2 ->  2\n",
      " 1 -> 2 ->  2\n",
      " 2 -> 3 ->  7\n",
      " 3 -> 3 ->  7\n",
      " 4 -> 3 ->  7\n",
      " 5 -> 3 ->  7\n",
      " 6 -> 3 ->  7\n",
      " 7 -> 3 ->  7\n"
     ]
    }
   ],
   "source": [
    "print('PreciseNum --quanting--> RoughNum --dequanting--> PreciseNum')\n",
    "for x in PreciseNum.range_iter():\n",
    "    x = PreciseNum(x)\n",
    "    x_rough = precise2rough(x)\n",
    "    x_reconstructed = rough2precise(x_rough)\n",
    "    print(f'{x.val:>2} -> {x_rough.val} -> {x_reconstructed.val:>2}')"
   ]
  },
  {
   "cell_type": "code",
   "execution_count": null,
   "id": "0cf0840d-5c06-44eb-b869-b63ed849d83e",
   "metadata": {},
   "outputs": [],
   "source": []
  },
  {
   "cell_type": "code",
   "execution_count": null,
   "id": "803645f1-fe4c-4fce-9711-1f638cfd7380",
   "metadata": {},
   "outputs": [],
   "source": []
  },
  {
   "cell_type": "markdown",
   "id": "c9d37fa9-b1fb-42b9-94fa-dbd5163eff8d",
   "metadata": {},
   "source": [
    "## Asymmetric Quantile Quanting"
   ]
  },
  {
   "cell_type": "markdown",
   "id": "87e1321a-fc9b-4bcd-b8da-5db1fc578441",
   "metadata": {},
   "source": [
    "You might have noticed that quanting and then dequanting 0 changes it to a non-zero values."
   ]
  },
  {
   "cell_type": "code",
   "execution_count": 40,
   "id": "4b1910e0-9fae-4294-98f5-ac441885df27",
   "metadata": {},
   "outputs": [
    {
     "name": "stdout",
     "output_type": "stream",
     "text": [
      "A precise  0 is quanted into a rough 2, and dequanted into a precise  2.\n"
     ]
    }
   ],
   "source": [
    "x = PreciseNum(0)\n",
    "x_rough = precise2rough(x)\n",
    "x_reconstructed = rough2precise(x_rough)\n",
    "\n",
    "print(f'A precise {x.val:>2} is quanted into a rough {x_rough.val}, and dequanted into a precise {x_reconstructed.val:>2}.')"
   ]
  },
  {
   "cell_type": "markdown",
   "id": "5151fbb0-e320-4ad6-8e07-4c388f5a98ac",
   "metadata": {},
   "source": [
    "This is bad, because **Todo Umer:** why exactly?"
   ]
  },
  {
   "cell_type": "markdown",
   "id": "f3875e85-387b-4da8-9ff3-1180673e3a80",
   "metadata": {},
   "source": [
    "To fix this, we do something called 'asymmetric quanting'. This can be be applied to naive quanting as well, but we'll directly apply it to quantile quanting.\n",
    "\n",
    "With 2 bits, we have 4 rough values. So far, we have divided up the target region (with total p'mass of 1) into 4 areas of equal p'mass. The main idea now is to reserve a region around 0 and pick 0 as its representative, and then independently divide the negative numbers into 4/2-1 = 1 regions of equal p'mass and the positive numbers into 4/2 = 2 regions of equal p'mass. This totals 1 + 1 + 2 = 4 regions."
   ]
  },
  {
   "cell_type": "code",
   "execution_count": 41,
   "id": "c890e5cb-19ce-4d5a-9a12-c9c6a4ee431a",
   "metadata": {},
   "outputs": [
    {
     "name": "stdout",
     "output_type": "stream",
     "text": [
      "For 2 bits, asymmetric quanting gives us 1 region(s) for negative numbers, 1 region around zero, and 2 regions for positive numbers.\n"
     ]
    }
   ],
   "source": [
    "bits = RoughNum.n_bits\n",
    "\n",
    "n_reg_pos = int((bits**2)/2)\n",
    "n_reg_neg = int(((bits**2)/2)-1)\n",
    "\n",
    "print(f'For {bits} bits, asymmetric quanting gives us {n_reg_neg} region(s) for negative numbers, 1 region around zero, and {n_reg_pos} regions for positive numbers.')"
   ]
  },
  {
   "cell_type": "code",
   "execution_count": 42,
   "id": "434f8c29-f561-4d4a-9de0-92964f7361e5",
   "metadata": {},
   "outputs": [
    {
     "name": "stdout",
     "output_type": "stream",
     "text": [
      "Each negative region has p'mass 0.50\n",
      "Each positive region has p'mass 0.25\n"
     ]
    }
   ],
   "source": [
    "pmass_per_neg_region = 0.5 / n_reg_neg\n",
    "pmass_per_pos_region = 0.5 / n_reg_pos\n",
    "\n",
    "print(f'Each negative region has p\\'mass {pmass_per_neg_region:.2f}')\n",
    "print(f'Each positive region has p\\'mass {pmass_per_pos_region:.2f}')"
   ]
  },
  {
   "cell_type": "code",
   "execution_count": null,
   "id": "1ec7e770-9c3b-479a-83e5-a4288ae5453a",
   "metadata": {},
   "outputs": [],
   "source": []
  },
  {
   "cell_type": "code",
   "execution_count": null,
   "id": "c2952f33-52f8-43da-9ee4-97d0dbaa8dd4",
   "metadata": {},
   "outputs": [],
   "source": [
    "def clamp_prec(x,a=PreciseNum.min_val,b=PreciseNum.max_val):\n",
    "    if x < a: return a\n",
    "    if x > b: return b\n",
    "    return x\n",
    "        \n",
    "reg_boundaries_precise = [\n",
    "    clamp_prec(ppf(i*pmass_per_region)) for i in range(RoughNum.n_bits**2 + 1)\n",
    "]\n",
    "\n",
    "for a_prec,b_prec in pairwise(reg_boundaries_precise):\n",
    "    pmass = cdf(b_prec)-cdf(a_prec)\n",
    "    print(f'\\tIn the precise range, region ({a_prec:>5.2f}, {b_prec:>5.2f}) has pmass {pmass:.4f}.')"
   ]
  },
  {
   "cell_type": "code",
   "execution_count": null,
   "id": "08885377-2dab-4bac-92d5-6f604cf25d2a",
   "metadata": {},
   "outputs": [],
   "source": []
  },
  {
   "cell_type": "code",
   "execution_count": null,
   "id": "88dd1c0b-905b-4cc1-b8a7-901223356f9f",
   "metadata": {},
   "outputs": [],
   "source": [
    "q_ctrs = tensor([\n",
    "    *[norm.ppf(0.5 - area_region_neg*i) for i in range(1,n_ctr_neg+1)],\n",
    "    0,\n",
    "    *[norm.ppf(0.5 + area_region_pos*i) for i in range(1,n_ctr_pos+1)]\n",
    "])\n",
    "q_ctrs"
   ]
  },
  {
   "cell_type": "code",
   "execution_count": null,
   "id": "2d73851c-2d70-4e48-bd14-57f8f770f693",
   "metadata": {},
   "outputs": [],
   "source": [
    "print(f'These are the {bits**2} numbers that our quanting scheme will map every input onto.')"
   ]
  },
  {
   "cell_type": "code",
   "execution_count": null,
   "id": "43acf348-7280-49e3-9a47-2048f3112ce3",
   "metadata": {},
   "outputs": [],
   "source": [
    "domain = torch.linspace(-4, 4, 100)\n",
    "plt.figure(figsize=(10, 5))\n",
    "plt.plot(domain, norm.pdf(domain))\n",
    "#for c in q_ctrs: plt.axvline(x=c, color='gray', linestyle='--')\n",
    "plt.scatter(q_ctrs, [0]*len(q_ctrs), color='red', s=30)\n",
    "plt.show()"
   ]
  },
  {
   "cell_type": "markdown",
   "id": "f1f6fd66-dabb-4489-8f6c-13c656154944",
   "metadata": {},
   "source": [
    "Let's check that the probability mass between is as expected"
   ]
  },
  {
   "cell_type": "code",
   "execution_count": null,
   "id": "d20ac6b7-313f-4cc0-bf23-538c295b4892",
   "metadata": {},
   "outputs": [],
   "source": [
    "for c1,c2 in pairwise(q_ctrs[0:n_ctr_neg].tolist() + [0]):\n",
    "    # in negative region, p'mass between any 2 centers equals p'mass of (-inf, left most center)\n",
    "    assert np.isclose(norm.cdf(c2) - norm.cdf(c1),  norm.cdf(q_ctrs[0]))\n",
    "\n",
    "for c1,c2 in pairwise([0] + q_ctrs[n_ctr_pos:].tolist()):\n",
    "    # in positive region, p'mass between any 2 centers equals p'mass of (right most center, inf)\n",
    "    assert np.isclose(norm.cdf(c2) - norm.cdf(c1), 1-norm.cdf(q_ctrs[-1]))"
   ]
  },
  {
   "cell_type": "code",
   "execution_count": null,
   "id": "b4ea2444-10d1-4d13-a069-db7d535af019",
   "metadata": {},
   "outputs": [],
   "source": []
  },
  {
   "cell_type": "code",
   "execution_count": null,
   "id": "65cdf013-15fa-494a-9185-f1e89246a7ed",
   "metadata": {},
   "outputs": [],
   "source": []
  },
  {
   "cell_type": "code",
   "execution_count": null,
   "id": "fc1b3eec-47aa-4ac8-9911-902a3975976e",
   "metadata": {},
   "outputs": [],
   "source": []
  },
  {
   "cell_type": "code",
   "execution_count": null,
   "id": "7521823f-6c82-44e7-81a8-2750363d8806",
   "metadata": {},
   "outputs": [],
   "source": []
  },
  {
   "cell_type": "code",
   "execution_count": null,
   "id": "3c183325-9f1f-45bc-8e14-853887edd18d",
   "metadata": {},
   "outputs": [],
   "source": []
  },
  {
   "cell_type": "code",
   "execution_count": null,
   "id": "ebe2f295-bb0a-4050-b366-9a73f89bcf2a",
   "metadata": {},
   "outputs": [],
   "source": []
  },
  {
   "cell_type": "code",
   "execution_count": null,
   "id": "d69be0a0-dd7b-4f68-b26c-99dcc606bb8a",
   "metadata": {},
   "outputs": [],
   "source": []
  },
  {
   "cell_type": "code",
   "execution_count": null,
   "id": "7744c4b1-608a-4dc7-baa1-3b0ae3d7c85d",
   "metadata": {},
   "outputs": [],
   "source": []
  },
  {
   "cell_type": "code",
   "execution_count": null,
   "id": "db5f8868-2601-450e-9512-5b2c6505ba08",
   "metadata": {},
   "outputs": [],
   "source": []
  },
  {
   "cell_type": "code",
   "execution_count": null,
   "id": "4eeefd6d-ec4b-450f-9525-9e6eb0a56565",
   "metadata": {},
   "outputs": [],
   "source": []
  }
 ],
 "metadata": {
  "kernelspec": {
   "display_name": "Python 3",
   "language": "python",
   "name": "python3"
  },
  "language_info": {
   "codemirror_mode": {
    "name": "ipython",
    "version": 3
   },
   "file_extension": ".py",
   "mimetype": "text/x-python",
   "name": "python",
   "nbconvert_exporter": "python",
   "pygments_lexer": "ipython3",
   "version": "3.10.10"
  }
 },
 "nbformat": 4,
 "nbformat_minor": 5
}
